{
  "cells": [
    {
      "cell_type": "markdown",
      "metadata": {
        "id": "view-in-github",
        "colab_type": "text"
      },
      "source": [
        "<a href=\"https://colab.research.google.com/github/Tayes06/financial-anomaly-detection/blob/main/fraud_prevention.ipynb\" target=\"_parent\"><img src=\"https://colab.research.google.com/assets/colab-badge.svg\" alt=\"Open In Colab\"/></a>"
      ]
    },
    {
      "cell_type": "markdown",
      "id": "fded3d8b-988d-4881-b1ae-294a15caa07e",
      "metadata": {
        "id": "fded3d8b-988d-4881-b1ae-294a15caa07e"
      },
      "source": [
        "# Part 2\n",
        "### Fraud detection in financial transactions\n",
        "This notebook is deserved to continue work about fraud detection started in another one  \n",
        "But here we'll focus on how to prevent insted of detect anomalies in financial transactions"
      ]
    },
    {
      "cell_type": "markdown",
      "id": "ea1992ed-7bd9-4eba-9c27-ea727391cdf1",
      "metadata": {
        "id": "ea1992ed-7bd9-4eba-9c27-ea727391cdf1"
      },
      "source": [
        "Nous allons empêcher les fraudes AVANT que les transactions ne soient validées en évaluant un score de risque en temps réel."
      ]
    },
    {
      "cell_type": "markdown",
      "id": "f9d5182e-32a4-43fa-8334-2035f627129d",
      "metadata": {
        "id": "f9d5182e-32a4-43fa-8334-2035f627129d"
      },
      "source": [
        "### A. Loading and préaration of dataset\n",
        "1. datast loading"
      ]
    },
    {
      "cell_type": "code",
      "source": [
        "from google.colab import drive\n",
        "drive.mount('/content/drive')"
      ],
      "metadata": {
        "colab": {
          "base_uri": "https://localhost:8080/"
        },
        "id": "RGcoV6H39b1J",
        "outputId": "7f77f14c-22c2-44b3-9d65-4ebb97852740"
      },
      "id": "RGcoV6H39b1J",
      "execution_count": null,
      "outputs": [
        {
          "output_type": "stream",
          "name": "stdout",
          "text": [
            "Mounted at /content/drive\n"
          ]
        }
      ]
    },
    {
      "cell_type": "code",
      "execution_count": null,
      "id": "91774208-a076-401d-9a92-6ebc440480fd",
      "metadata": {
        "id": "91774208-a076-401d-9a92-6ebc440480fd"
      },
      "outputs": [],
      "source": [
        "import pandas as pd\n",
        "import numpy as np"
      ]
    },
    {
      "cell_type": "code",
      "execution_count": null,
      "id": "d022e283-f5bc-46db-a6ba-32275cfcb82c",
      "metadata": {
        "id": "d022e283-f5bc-46db-a6ba-32275cfcb82c"
      },
      "outputs": [],
      "source": [
        "import pandas as pd\n",
        "\n",
        "# Charger les données\n",
        "df = pd.read_csv(\"/content/drive/MyDrive/Colab Notebooks/bank-fraud-detection/paysim_dataset_for_prediction.csv\")\n"
      ]
    },
    {
      "cell_type": "markdown",
      "id": "39f8bd63-647b-4a29-ae9b-bc5208e7caff",
      "metadata": {
        "id": "39f8bd63-647b-4a29-ae9b-bc5208e7caff"
      },
      "source": [
        "##### Dataset enrichment"
      ]
    },
    {
      "cell_type": "code",
      "execution_count": null,
      "id": "91a6acd6-9940-43d3-b6fc-08ed940653ac",
      "metadata": {
        "id": "91a6acd6-9940-43d3-b6fc-08ed940653ac",
        "outputId": "03146f0d-31a9-4061-befb-1bf59ea2c8e8",
        "colab": {
          "base_uri": "https://localhost:8080/"
        }
      },
      "outputs": [
        {
          "output_type": "stream",
          "name": "stdout",
          "text": [
            "device_type\n",
            "Desktop    2121683\n",
            "ATM        2121611\n",
            "Mobile     2119326\n",
            "Name: count, dtype: int64\n"
          ]
        }
      ],
      "source": [
        "np.random.seed(42)  # Pour avoir les mêmes résultats à chaque exécution\n",
        "\n",
        "# Simuler le type d'appareil utilisé pour la transaction\n",
        "device_types = ['Mobile', 'Desktop', 'ATM']\n",
        "df['device_type'] = np.random.choice(device_types, size=len(df))\n",
        "\n",
        "# Show devices distributions\n",
        "print(df['device_type'].value_counts())"
      ]
    },
    {
      "cell_type": "code",
      "execution_count": null,
      "id": "31568957-15c7-45ae-8baa-73061c8727e3",
      "metadata": {
        "id": "31568957-15c7-45ae-8baa-73061c8727e3",
        "outputId": "16c946f8-c0d2-4492-a83b-d981aac8ea7f",
        "colab": {
          "base_uri": "https://localhost:8080/"
        }
      },
      "outputs": [
        {
          "output_type": "stream",
          "name": "stdout",
          "text": [
            "location\n",
            "Abijan       708859\n",
            "Abuja        707246\n",
            "Yaoundé      707004\n",
            "Paris        706873\n",
            "Guangzhou    706746\n",
            "Douala       706648\n",
            "Limoges      706637\n",
            "Bafoussam    706350\n",
            "Toronto      706257\n",
            "Name: count, dtype: int64\n"
          ]
        }
      ],
      "source": [
        "cities = ['Douala', 'Yaoundé', 'Paris', 'Limoges', 'Abuja', 'Toronto', 'Guangzhou', 'Bafoussam', 'Abijan']\n",
        "df['location'] = np.random.choice(cities, size=len(df))\n",
        "\n",
        "# Visualisation des villes les plus fréquentes\n",
        "print(df['location'].value_counts())"
      ]
    },
    {
      "cell_type": "code",
      "execution_count": null,
      "id": "13cc2487-cee8-48dc-bf5c-38aa422173ae",
      "metadata": {
        "id": "13cc2487-cee8-48dc-bf5c-38aa422173ae",
        "outputId": "ce9e3e33-f35a-48c7-9dcd-5ee9832720c3",
        "colab": {
          "base_uri": "https://localhost:8080/"
        }
      },
      "outputs": [
        {
          "output_type": "stream",
          "name": "stdout",
          "text": [
            "time_of_day\n",
            "Après-midi    2689784\n",
            "Soir          2365669\n",
            "Matin         1194562\n",
            "Nuit           112605\n",
            "Name: count, dtype: int64\n"
          ]
        }
      ],
      "source": [
        "def assign_time(step):\n",
        "    if step % 24 < 6:\n",
        "        return 'Nuit'\n",
        "    elif step % 24 < 12:\n",
        "        return 'Matin'\n",
        "    elif step % 24 < 18:\n",
        "        return 'Après-midi'\n",
        "    else:\n",
        "        return 'Soir'\n",
        "\n",
        "df['time_of_day'] = df['step'].apply(assign_time)\n",
        "\n",
        "# Vérifier la distribution des transactions par moment de la journée\n",
        "print(df['time_of_day'].value_counts())"
      ]
    },
    {
      "cell_type": "code",
      "execution_count": null,
      "id": "b593a0ee-7df4-4a96-ad40-7d51c14baa8e",
      "metadata": {
        "id": "b593a0ee-7df4-4a96-ad40-7d51c14baa8e",
        "colab": {
          "base_uri": "https://localhost:8080/"
        },
        "outputId": "16734d5e-54b0-4b4a-dfb5-74233569a058"
      },
      "outputs": [
        {
          "output_type": "stream",
          "name": "stdout",
          "text": [
            "✅ Colonne `rapid_transactions` créée avec succès !\n"
          ]
        },
        {
          "output_type": "stream",
          "name": "stderr",
          "text": [
            "<ipython-input-16-75a9d2f1a26d>:17: FutureWarning: Downcasting object dtype arrays on .fillna, .ffill, .bfill is deprecated and will change in a future version. Call result.infer_objects(copy=False) instead. To opt-in to the future behavior, set `pd.set_option('future.no_silent_downcasting', True)`\n",
            "  df['rapid_transactions'] = df['rapid_transactions'].fillna(0).astype(int)  # Convertir en int pour éviter les erreurs\n"
          ]
        }
      ],
      "source": [
        "from numba import jit\n",
        "\n",
        "@jit(nopython=True)\n",
        "def calculate_rapid_transactions(step_values):\n",
        "    # Convert step_values to a NumPy array with float64 dtype\n",
        "    # but first convert to list to ensure homogeneity\n",
        "    step_values = np.array(list(step_values), dtype=np.float64)\n",
        "    diff_values = np.diff(step_values)\n",
        "    diff_values = np.concatenate((np.array([999]), diff_values))  # Handle first element using concatenate\n",
        "    rapid_transactions = (diff_values < 1).astype(np.int64).cumsum()\n",
        "    return rapid_transactions\n",
        "\n",
        "# Vérifier si 'nameOrig' existe\n",
        "if 'nameOrig' in df.columns:\n",
        "    df['rapid_transactions'] = df.groupby('nameOrig')['step'].apply(lambda x: calculate_rapid_transactions(x.to_numpy()))\n",
        "    # Fill NaN values with 0 before converting to int\n",
        "    df['rapid_transactions'] = df['rapid_transactions'].fillna(0).astype(int)  # Convertir en int pour éviter les erreurs\n",
        "\n",
        "print(\"✅ Colonne `rapid_transactions` créée avec succès !\")"
      ]
    },
    {
      "cell_type": "code",
      "execution_count": null,
      "id": "3ca1dcb2-e7e1-4ee3-b60b-a8c601acb077",
      "metadata": {
        "id": "3ca1dcb2-e7e1-4ee3-b60b-a8c601acb077"
      },
      "outputs": [],
      "source": [
        "# Supprimer les colonnes non pertinentes\n",
        "df = df.drop(columns=['nameOrig', 'nameDest', 'isFlaggedFraud'])  # Identifiants inutiles"
      ]
    },
    {
      "cell_type": "code",
      "execution_count": null,
      "id": "600fff16-e444-4ff7-9db9-8a5aa1a655aa",
      "metadata": {
        "scrolled": true,
        "id": "600fff16-e444-4ff7-9db9-8a5aa1a655aa"
      },
      "outputs": [],
      "source": [
        "from sklearn.preprocessing import StandardScaler\n",
        "\n",
        "scaler = StandardScaler()\n",
        "df[['amount', 'oldbalanceOrg', 'newbalanceOrig', 'oldbalanceDest', 'newbalanceDest', 'rapid_transactions']] = scaler.fit_transform(\n",
        "    df[['amount', 'oldbalanceOrg', 'newbalanceOrig', 'oldbalanceDest', 'newbalanceDest', 'rapid_transactions']]\n",
        ")"
      ]
    },
    {
      "cell_type": "code",
      "execution_count": null,
      "id": "a1a3845e-4494-4992-988d-cf266c3d662d",
      "metadata": {
        "id": "a1a3845e-4494-4992-988d-cf266c3d662d",
        "colab": {
          "base_uri": "https://localhost:8080/"
        },
        "outputId": "2f37c35c-e208-43b1-b111-1d5bd0d11bc3"
      },
      "outputs": [
        {
          "output_type": "stream",
          "name": "stdout",
          "text": [
            "<class 'pandas.core.frame.DataFrame'>\n",
            "RangeIndex: 6362620 entries, 0 to 6362619\n",
            "Data columns (total 12 columns):\n",
            " #   Column              Dtype  \n",
            "---  ------              -----  \n",
            " 0   step                int64  \n",
            " 1   type                object \n",
            " 2   amount              float64\n",
            " 3   oldbalanceOrg       float64\n",
            " 4   newbalanceOrig      float64\n",
            " 5   oldbalanceDest      float64\n",
            " 6   newbalanceDest      float64\n",
            " 7   isFraud             int64  \n",
            " 8   device_type         object \n",
            " 9   location            object \n",
            " 10  time_of_day         object \n",
            " 11  rapid_transactions  float64\n",
            "dtypes: float64(6), int64(2), object(4)\n",
            "memory usage: 582.5+ MB\n",
            "None\n"
          ]
        }
      ],
      "source": [
        "print(df.info())"
      ]
    },
    {
      "cell_type": "markdown",
      "id": "127fe6ab-4294-4dbd-8d08-f78962cb094e",
      "metadata": {
        "id": "127fe6ab-4294-4dbd-8d08-f78962cb094e"
      },
      "source": [
        "2. Encoding of categorichal variables"
      ]
    },
    {
      "cell_type": "code",
      "execution_count": null,
      "id": "94381d26-4f79-45af-91b6-170d2895a941",
      "metadata": {
        "id": "94381d26-4f79-45af-91b6-170d2895a941"
      },
      "outputs": [],
      "source": [
        "from sklearn.preprocessing import LabelEncoder\n",
        "\n",
        "encoder = LabelEncoder()\n",
        "for col in ['type', 'time_of_day']:\n",
        "    df[col] = encoder.fit_transform(df[col])"
      ]
    },
    {
      "cell_type": "markdown",
      "id": "b61c0ada-7e61-4520-b6ea-f6c5a1feac70",
      "metadata": {
        "id": "b61c0ada-7e61-4520-b6ea-f6c5a1feac70"
      },
      "source": [
        "3. Normalization of amount and balance"
      ]
    },
    {
      "cell_type": "code",
      "execution_count": null,
      "id": "555af9b0-84e8-4273-9d05-6449d7ac5acb",
      "metadata": {
        "id": "555af9b0-84e8-4273-9d05-6449d7ac5acb"
      },
      "outputs": [],
      "source": [
        "from sklearn.preprocessing import StandardScaler\n",
        "\n",
        "scaler = StandardScaler()\n",
        "df[['amount', 'oldbalanceOrg', 'newbalanceOrig', 'oldbalanceDest', 'newbalanceDest', 'rapid_transactions']] = scaler.fit_transform(\n",
        "    df[['amount', 'oldbalanceOrg', 'newbalanceOrig', 'oldbalanceDest', 'newbalanceDest', 'rapid_transactions']]\n",
        ")"
      ]
    },
    {
      "cell_type": "code",
      "source": [
        "print(df.columns)  # Liste toutes les colonnes disponibles"
      ],
      "metadata": {
        "colab": {
          "base_uri": "https://localhost:8080/"
        },
        "id": "H1WGIxPOGbnj",
        "outputId": "ffbde9b1-750e-4ab4-9900-157cf1ec060c"
      },
      "id": "H1WGIxPOGbnj",
      "execution_count": null,
      "outputs": [
        {
          "output_type": "stream",
          "name": "stdout",
          "text": [
            "Index(['step', 'type', 'amount', 'oldbalanceOrg', 'newbalanceOrig',\n",
            "       'oldbalanceDest', 'newbalanceDest', 'isFraud', 'device_type',\n",
            "       'location', 'time_of_day', 'rapid_transactions'],\n",
            "      dtype='object')\n"
          ]
        }
      ]
    },
    {
      "cell_type": "markdown",
      "source": [
        "4. Separate charachteristics x and the tagert y"
      ],
      "metadata": {
        "id": "_WNBipNTPYlE"
      },
      "id": "_WNBipNTPYlE"
    },
    {
      "cell_type": "code",
      "execution_count": null,
      "id": "bb078737-6e4e-4b6a-a5cd-9c8b23a53129",
      "metadata": {
        "id": "bb078737-6e4e-4b6a-a5cd-9c8b23a53129",
        "colab": {
          "base_uri": "https://localhost:8080/"
        },
        "outputId": "c6491a49-ccf8-4ee7-db2a-971236014c31"
      },
      "outputs": [
        {
          "output_type": "stream",
          "name": "stdout",
          "text": [
            "✅ Données prêtes pour l'entraînement !\n"
          ]
        }
      ],
      "source": [
        "# Définition des variables explicatives et de la variable cible\n",
        "X = df.drop(columns=['isFraud'])  # Caractéristiques\n",
        "y = df['isFraud']  # Variable cible (1 = fraude, 0 = normal)\n",
        "\n",
        "print(\"✅ Données prêtes pour l'entraînement !\")"
      ]
    },
    {
      "cell_type": "markdown",
      "source": [
        "## Spliting dataset into training and test set"
      ],
      "metadata": {
        "id": "ZMgkxtJbQBvM"
      },
      "id": "ZMgkxtJbQBvM"
    },
    {
      "cell_type": "code",
      "source": [
        "from sklearn.model_selection import train_test_split\n",
        "\n",
        "# Séparation en entraînement (80%) et test (20%)\n",
        "X_train, X_test, y_train, y_test = train_test_split(X, y, test_size=0.2, random_state=42, stratify=y)\n",
        "\n",
        "print(f\"📊 Entraînement : {X_train.shape[0]} transactions\")\n",
        "print(f\"📊 Test : {X_test.shape[0]} transactions\")"
      ],
      "metadata": {
        "colab": {
          "base_uri": "https://localhost:8080/"
        },
        "id": "_m1oXMnLQUYK",
        "outputId": "51f6aecb-6ffe-4638-eee4-d361da8444ff"
      },
      "id": "_m1oXMnLQUYK",
      "execution_count": null,
      "outputs": [
        {
          "output_type": "stream",
          "name": "stdout",
          "text": [
            "📊 Entraînement : 5090096 transactions\n",
            "📊 Test : 1272524 transactions\n"
          ]
        }
      ]
    },
    {
      "cell_type": "markdown",
      "source": [
        "### Training of the prediction model\n",
        "We'll first start with Random Forest, then test XGBoost\n",
        "\n",
        "\n",
        "*   Training of Random Forest\n",
        "\n"
      ],
      "metadata": {
        "id": "JA5GIml9QrDA"
      },
      "id": "JA5GIml9QrDA"
    },
    {
      "cell_type": "code",
      "source": [
        "print(X_train.dtypes)"
      ],
      "metadata": {
        "colab": {
          "base_uri": "https://localhost:8080/"
        },
        "id": "VIY8jJhBSJ77",
        "outputId": "6c52c64c-45f3-4daf-8eb8-eb2a3c199ca3"
      },
      "id": "VIY8jJhBSJ77",
      "execution_count": null,
      "outputs": [
        {
          "output_type": "stream",
          "name": "stdout",
          "text": [
            "step                    int64\n",
            "type                    int64\n",
            "amount                float64\n",
            "oldbalanceOrg         float64\n",
            "newbalanceOrig        float64\n",
            "oldbalanceDest        float64\n",
            "newbalanceDest        float64\n",
            "device_type            object\n",
            "location               object\n",
            "time_of_day             int64\n",
            "rapid_transactions    float64\n",
            "dtype: object\n"
          ]
        }
      ]
    },
    {
      "cell_type": "code",
      "source": [
        "for col in X_train.select_dtypes(include=['object']).columns:\n",
        "    print(f\"📌 {col} : {X_train[col].unique()[:10]}\")  # Affiche 10 valeurs uniques par colonne\n"
      ],
      "metadata": {
        "colab": {
          "base_uri": "https://localhost:8080/"
        },
        "id": "7cSXr2tZShRh",
        "outputId": "d746fecb-0dba-4153-d36f-39c585ca6743"
      },
      "id": "7cSXr2tZShRh",
      "execution_count": null,
      "outputs": [
        {
          "output_type": "stream",
          "name": "stdout",
          "text": [
            "📌 device_type : ['ATM' 'Desktop' 'Mobile']\n",
            "📌 location : ['Guangzhou' 'Paris' 'Abijan' 'Bafoussam' 'Toronto' 'Abuja' 'Yaoundé'\n",
            " 'Limoges' 'Douala']\n"
          ]
        }
      ]
    },
    {
      "cell_type": "code",
      "source": [
        "categorical_cols = X_train.select_dtypes(include=['object']).columns\n",
        "print(\"📌 Colonnes catégoriques détectées :\", categorical_cols)"
      ],
      "metadata": {
        "colab": {
          "base_uri": "https://localhost:8080/"
        },
        "id": "frMJFjmGSzCk",
        "outputId": "f7c8b8e6-59fe-43ad-9316-fd6c98297b09"
      },
      "id": "frMJFjmGSzCk",
      "execution_count": null,
      "outputs": [
        {
          "output_type": "stream",
          "name": "stdout",
          "text": [
            "📌 Colonnes catégoriques détectées : Index(['device_type', 'location'], dtype='object')\n"
          ]
        }
      ]
    },
    {
      "cell_type": "code",
      "source": [
        "#from sklearn.preprocessing import LabelEncoder\n",
        "\n",
        "#encoder = LabelEncoder()\n",
        "#for col in categorical_cols:\n",
        "#    X_train[col] = encoder.fit_transform(X_train[col])\n",
        "#    X_test[col] = encoder.transform(X_test[col])  # Encoder aussi X_test"
      ],
      "metadata": {
        "id": "Oahj0wQgS-Ft"
      },
      "id": "Oahj0wQgS-Ft",
      "execution_count": null,
      "outputs": []
    },
    {
      "cell_type": "code",
      "source": [
        "from sklearn.preprocessing import LabelEncoder\n",
        "import joblib\n",
        "\n",
        "# Dictionnaire pour stocker les encodeurs de chaque colonne catégorique\n",
        "encoders = {}\n",
        "\n",
        "for col in categorical_cols:\n",
        "    # Vérifier si la colonne contient déjà des nombres\n",
        "    if X_train[col].dtype == 'object':\n",
        "        le = LabelEncoder()\n",
        "        X_train[col] = le.fit_transform(X_train[col])\n",
        "        X_test[col] = le.transform(X_test[col])  # Encoder aussi X_test\n",
        "        encoders[col] = le  # Sauvegarder l'encodeur uniquement pour les colonnes encodées\n",
        "\n",
        "# Sauvegarder les encodeurs\n",
        "joblib.dump(encoders, 'encoders.pkl')\n",
        "\n",
        "print(\"✅ Encodeurs sauvegardés correctement !\")\n"
      ],
      "metadata": {
        "colab": {
          "base_uri": "https://localhost:8080/"
        },
        "id": "dY-cr_fwhQbO",
        "outputId": "e60da411-cd2c-4031-abe4-9aeb9c28bb84"
      },
      "id": "dY-cr_fwhQbO",
      "execution_count": null,
      "outputs": [
        {
          "output_type": "stream",
          "name": "stdout",
          "text": [
            "✅ Encodeurs sauvegardés correctement !\n"
          ]
        }
      ]
    },
    {
      "cell_type": "code",
      "source": [
        "print(X_train.dtypes)  # Vérifier que toutes les colonnes sont bien numériques\n"
      ],
      "metadata": {
        "colab": {
          "base_uri": "https://localhost:8080/"
        },
        "id": "AYK4sI2WTERM",
        "outputId": "6fa36a81-6ede-483e-a6e7-a87342e082d4"
      },
      "id": "AYK4sI2WTERM",
      "execution_count": null,
      "outputs": [
        {
          "output_type": "stream",
          "name": "stdout",
          "text": [
            "step                    int64\n",
            "type                    int64\n",
            "amount                float64\n",
            "oldbalanceOrg         float64\n",
            "newbalanceOrig        float64\n",
            "oldbalanceDest        float64\n",
            "newbalanceDest        float64\n",
            "device_type             int64\n",
            "location                int64\n",
            "time_of_day             int64\n",
            "rapid_transactions    float64\n",
            "dtype: object\n"
          ]
        }
      ]
    },
    {
      "cell_type": "code",
      "source": [
        "from sklearn.ensemble import RandomForestClassifier\n",
        "\n",
        "# Initialisation du modèle\n",
        "model_rf = RandomForestClassifier(n_estimators=100, random_state=42, class_weight=\"balanced\")\n",
        "\n",
        "# Entraînement du modèle\n",
        "model_rf.fit(X_train, y_train)\n",
        "\n",
        "print(\"✅ Modèle Random Forest entraîné avec succès !\")\n"
      ],
      "metadata": {
        "colab": {
          "base_uri": "https://localhost:8080/"
        },
        "id": "NIdGFXHaQZ8s",
        "outputId": "d9c27b0a-b31a-4241-b9e0-554f1f30ed8a"
      },
      "id": "NIdGFXHaQZ8s",
      "execution_count": null,
      "outputs": [
        {
          "output_type": "stream",
          "name": "stdout",
          "text": [
            "✅ Modèle Random Forest entraîné avec succès !\n"
          ]
        }
      ]
    },
    {
      "cell_type": "markdown",
      "source": [
        "## Test of the model on test set"
      ],
      "metadata": {
        "id": "sZ32veNMYZ8F"
      },
      "id": "sZ32veNMYZ8F"
    },
    {
      "cell_type": "code",
      "source": [
        "from sklearn.metrics import classification_report, accuracy_score, confusion_matrix\n",
        "\n",
        "# Prédictions\n",
        "y_pred_rf = model_rf.predict(X_test)\n",
        "\n",
        "# Évaluation\n",
        "print(\"📊 Performance du modèle Random Forest :\")\n",
        "print(confusion_matrix(y_test, y_pred_rf))\n",
        "print(classification_report(y_test, y_pred_rf))\n",
        "print(f\"🎯 Précision : {accuracy_score(y_test, y_pred_rf):.4f}\")"
      ],
      "metadata": {
        "colab": {
          "base_uri": "https://localhost:8080/"
        },
        "id": "BH_NzEB7YZHD",
        "outputId": "da77578d-e145-4b6e-e0cd-14d3de4990fe"
      },
      "id": "BH_NzEB7YZHD",
      "execution_count": null,
      "outputs": [
        {
          "output_type": "stream",
          "name": "stdout",
          "text": [
            "📊 Performance du modèle Random Forest :\n",
            "[[1270868      13]\n",
            " [    388    1255]]\n",
            "              precision    recall  f1-score   support\n",
            "\n",
            "           0       1.00      1.00      1.00   1270881\n",
            "           1       0.99      0.76      0.86      1643\n",
            "\n",
            "    accuracy                           1.00   1272524\n",
            "   macro avg       0.99      0.88      0.93   1272524\n",
            "weighted avg       1.00      1.00      1.00   1272524\n",
            "\n",
            "🎯 Précision : 0.9997\n"
          ]
        }
      ]
    },
    {
      "cell_type": "markdown",
      "source": [
        "# Optimisation of the result using XGBoost\n",
        "we'll now train model on XGBoost and compare results"
      ],
      "metadata": {
        "id": "vbuEhEoWaLnE"
      },
      "id": "vbuEhEoWaLnE"
    },
    {
      "cell_type": "code",
      "source": [
        "pip install xgboost"
      ],
      "metadata": {
        "colab": {
          "base_uri": "https://localhost:8080/"
        },
        "id": "y8BR20eCYiLm",
        "outputId": "282a414f-c2bd-4687-95ff-cd70a62d4250"
      },
      "id": "y8BR20eCYiLm",
      "execution_count": null,
      "outputs": [
        {
          "output_type": "stream",
          "name": "stdout",
          "text": [
            "Requirement already satisfied: xgboost in /usr/local/lib/python3.11/dist-packages (2.1.4)\n",
            "Requirement already satisfied: numpy in /usr/local/lib/python3.11/dist-packages (from xgboost) (2.0.2)\n",
            "Requirement already satisfied: nvidia-nccl-cu12 in /usr/local/lib/python3.11/dist-packages (from xgboost) (2.21.5)\n",
            "Requirement already satisfied: scipy in /usr/local/lib/python3.11/dist-packages (from xgboost) (1.14.1)\n"
          ]
        }
      ]
    },
    {
      "cell_type": "markdown",
      "source": [
        "### Training of XGBoost model"
      ],
      "metadata": {
        "id": "fAL4XWDrartG"
      },
      "id": "fAL4XWDrartG"
    },
    {
      "cell_type": "code",
      "source": [
        "from xgboost import XGBClassifier\n",
        "\n",
        "# Initialisation du modèle\n",
        "model_xgb = XGBClassifier(n_estimators=100, learning_rate=0.1, max_depth=6, scale_pos_weight=5, random_state=42)\n",
        "\n",
        "# Entraînement\n",
        "model_xgb.fit(X_train, y_train)\n",
        "\n",
        "# Prédictions\n",
        "y_pred_xgb = model_xgb.predict(X_test)\n",
        "\n",
        "# Évaluation\n",
        "print(\"Performance du modèle XGBoost :\")\n",
        "print(confusion_matrix(y_test, y_pred_xgb))\n",
        "print(classification_report(y_test, y_pred_xgb))\n",
        "print(f\"Précision : {accuracy_score(y_test, y_pred_xgb):.4f}\")"
      ],
      "metadata": {
        "colab": {
          "base_uri": "https://localhost:8080/"
        },
        "id": "oZaaeXp_ah_n",
        "outputId": "db81d8df-171d-4ea4-ac05-5bd6ccc4aa30"
      },
      "id": "oZaaeXp_ah_n",
      "execution_count": null,
      "outputs": [
        {
          "output_type": "stream",
          "name": "stdout",
          "text": [
            "Performance du modèle XGBoost :\n",
            "[[1270712     169]\n",
            " [    178    1465]]\n",
            "              precision    recall  f1-score   support\n",
            "\n",
            "           0       1.00      1.00      1.00   1270881\n",
            "           1       0.90      0.89      0.89      1643\n",
            "\n",
            "    accuracy                           1.00   1272524\n",
            "   macro avg       0.95      0.95      0.95   1272524\n",
            "weighted avg       1.00      1.00      1.00   1272524\n",
            "\n",
            "Précision : 0.9997\n"
          ]
        }
      ]
    },
    {
      "cell_type": "markdown",
      "source": [
        "Let's now compare and see the one most efficient"
      ],
      "metadata": {
        "id": "H1XUrP3-bLak"
      },
      "id": "H1XUrP3-bLak"
    },
    {
      "cell_type": "code",
      "source": [
        "print(\"Comparaison des précisions :\")\n",
        "print(f\"- Random Forest : {accuracy_score(y_test, y_pred_rf):.4f}\")\n",
        "print(f\"- XGBoost : {accuracy_score(y_test, y_pred_xgb):.4f}\")"
      ],
      "metadata": {
        "colab": {
          "base_uri": "https://localhost:8080/"
        },
        "id": "iHeVMzREaz9G",
        "outputId": "25128ac5-e05d-430f-ab61-4ee579c9a367"
      },
      "id": "iHeVMzREaz9G",
      "execution_count": null,
      "outputs": [
        {
          "output_type": "stream",
          "name": "stdout",
          "text": [
            "Comparaison des précisions :\n",
            "- Random Forest : 0.9997\n",
            "- XGBoost : 0.9997\n"
          ]
        }
      ]
    },
    {
      "cell_type": "markdown",
      "source": [
        "## Saving of XGBoost model for further use"
      ],
      "metadata": {
        "id": "_GuBbD66byzQ"
      },
      "id": "_GuBbD66byzQ"
    },
    {
      "cell_type": "code",
      "source": [
        "import joblib\n",
        "\n",
        "# Sauvegarde du modèle XGBoost\n",
        "joblib.dump(model_xgb, 'xgboost_fraud_model.pkl')\n",
        "\n",
        "# Sauvegarde des outils de prétraitement\n",
        "joblib.dump(encoder, 'encoders.pkl')\n",
        "joblib.dump(scaler, 'scaler.pkl')\n",
        "\n",
        "print(\"Modèle XGBoost et outils de prétraitement sauvegardés !\")"
      ],
      "metadata": {
        "colab": {
          "base_uri": "https://localhost:8080/"
        },
        "id": "JlMHlD8tbbwm",
        "outputId": "a140b45e-f6ab-484b-a050-fc6a25e8c55b"
      },
      "id": "JlMHlD8tbbwm",
      "execution_count": null,
      "outputs": [
        {
          "output_type": "stream",
          "name": "stdout",
          "text": [
            "Modèle XGBoost et outils de prétraitement sauvegardés !\n"
          ]
        }
      ]
    },
    {
      "cell_type": "markdown",
      "source": [
        "Let's load the just saved model and make some tests"
      ],
      "metadata": {
        "id": "pQfUO3u9cJeY"
      },
      "id": "pQfUO3u9cJeY"
    },
    {
      "cell_type": "code",
      "source": [
        "# Charger le modèle\n",
        "model_loaded = joblib.load('xgboost_fraud_model.pkl')\n",
        "encoder = joblib.load('encoders.pkl')\n",
        "scaler = joblib.load('scaler.pkl')\n",
        "\n",
        "print(\"Modèle chargé avec succès !\")"
      ],
      "metadata": {
        "colab": {
          "base_uri": "https://localhost:8080/"
        },
        "id": "8p6wFkcob8p2",
        "outputId": "1b48ef89-f667-426e-f313-9914424c6388"
      },
      "id": "8p6wFkcob8p2",
      "execution_count": null,
      "outputs": [
        {
          "output_type": "stream",
          "name": "stdout",
          "text": [
            "Modèle chargé avec succès !\n"
          ]
        }
      ]
    },
    {
      "cell_type": "code",
      "source": [
        "# Charger les encodeurs, le scaler et le modèle\n",
        "encoders = joblib.load('encoders.pkl')\n",
        "scaler = joblib.load('scaler.pkl')\n",
        "model_rf = joblib.load('model_rf.pkl')\n",
        "\n",
        "# Fonction pour encoder une valeur de façon sécurisée\n",
        "def safe_encode(column, value):\n",
        "    if column in encoders:\n",
        "        encoder = encoders[column]\n",
        "        return encoder.transform([value])[0] if value in encoder.classes_ else encoder.transform(['UNKNOWN'])[0]\n",
        "    return value  # Retourne la valeur si elle est déjà numérique\n"
      ],
      "metadata": {
        "id": "dSoy0lAIoEML",
        "outputId": "3f5a770c-7036-412f-9056-eccab3eb27b5",
        "colab": {
          "base_uri": "https://localhost:8080/",
          "height": 332
        }
      },
      "id": "dSoy0lAIoEML",
      "execution_count": null,
      "outputs": [
        {
          "output_type": "error",
          "ename": "FileNotFoundError",
          "evalue": "[Errno 2] No such file or directory: 'model_rf.pkl'",
          "traceback": [
            "\u001b[0;31m---------------------------------------------------------------------------\u001b[0m",
            "\u001b[0;31mFileNotFoundError\u001b[0m                         Traceback (most recent call last)",
            "\u001b[0;32m<ipython-input-64-9612ba2d9e3e>\u001b[0m in \u001b[0;36m<cell line: 0>\u001b[0;34m()\u001b[0m\n\u001b[1;32m      2\u001b[0m \u001b[0mencoders\u001b[0m \u001b[0;34m=\u001b[0m \u001b[0mjoblib\u001b[0m\u001b[0;34m.\u001b[0m\u001b[0mload\u001b[0m\u001b[0;34m(\u001b[0m\u001b[0;34m'encoders.pkl'\u001b[0m\u001b[0;34m)\u001b[0m\u001b[0;34m\u001b[0m\u001b[0;34m\u001b[0m\u001b[0m\n\u001b[1;32m      3\u001b[0m \u001b[0mscaler\u001b[0m \u001b[0;34m=\u001b[0m \u001b[0mjoblib\u001b[0m\u001b[0;34m.\u001b[0m\u001b[0mload\u001b[0m\u001b[0;34m(\u001b[0m\u001b[0;34m'scaler.pkl'\u001b[0m\u001b[0;34m)\u001b[0m\u001b[0;34m\u001b[0m\u001b[0;34m\u001b[0m\u001b[0m\n\u001b[0;32m----> 4\u001b[0;31m \u001b[0mmodel_rf\u001b[0m \u001b[0;34m=\u001b[0m \u001b[0mjoblib\u001b[0m\u001b[0;34m.\u001b[0m\u001b[0mload\u001b[0m\u001b[0;34m(\u001b[0m\u001b[0;34m'model_rf.pkl'\u001b[0m\u001b[0;34m)\u001b[0m\u001b[0;34m\u001b[0m\u001b[0;34m\u001b[0m\u001b[0m\n\u001b[0m\u001b[1;32m      5\u001b[0m \u001b[0;34m\u001b[0m\u001b[0m\n\u001b[1;32m      6\u001b[0m \u001b[0;31m# Fonction pour encoder une valeur de façon sécurisée\u001b[0m\u001b[0;34m\u001b[0m\u001b[0;34m\u001b[0m\u001b[0m\n",
            "\u001b[0;32m/usr/local/lib/python3.11/dist-packages/joblib/numpy_pickle.py\u001b[0m in \u001b[0;36mload\u001b[0;34m(filename, mmap_mode)\u001b[0m\n\u001b[1;32m    648\u001b[0m             \u001b[0mobj\u001b[0m \u001b[0;34m=\u001b[0m \u001b[0m_unpickle\u001b[0m\u001b[0;34m(\u001b[0m\u001b[0mfobj\u001b[0m\u001b[0;34m)\u001b[0m\u001b[0;34m\u001b[0m\u001b[0;34m\u001b[0m\u001b[0m\n\u001b[1;32m    649\u001b[0m     \u001b[0;32melse\u001b[0m\u001b[0;34m:\u001b[0m\u001b[0;34m\u001b[0m\u001b[0;34m\u001b[0m\u001b[0m\n\u001b[0;32m--> 650\u001b[0;31m         \u001b[0;32mwith\u001b[0m \u001b[0mopen\u001b[0m\u001b[0;34m(\u001b[0m\u001b[0mfilename\u001b[0m\u001b[0;34m,\u001b[0m \u001b[0;34m'rb'\u001b[0m\u001b[0;34m)\u001b[0m \u001b[0;32mas\u001b[0m \u001b[0mf\u001b[0m\u001b[0;34m:\u001b[0m\u001b[0;34m\u001b[0m\u001b[0;34m\u001b[0m\u001b[0m\n\u001b[0m\u001b[1;32m    651\u001b[0m             \u001b[0;32mwith\u001b[0m \u001b[0m_read_fileobject\u001b[0m\u001b[0;34m(\u001b[0m\u001b[0mf\u001b[0m\u001b[0;34m,\u001b[0m \u001b[0mfilename\u001b[0m\u001b[0;34m,\u001b[0m \u001b[0mmmap_mode\u001b[0m\u001b[0;34m)\u001b[0m \u001b[0;32mas\u001b[0m \u001b[0mfobj\u001b[0m\u001b[0;34m:\u001b[0m\u001b[0;34m\u001b[0m\u001b[0;34m\u001b[0m\u001b[0m\n\u001b[1;32m    652\u001b[0m                 \u001b[0;32mif\u001b[0m \u001b[0misinstance\u001b[0m\u001b[0;34m(\u001b[0m\u001b[0mfobj\u001b[0m\u001b[0;34m,\u001b[0m \u001b[0mstr\u001b[0m\u001b[0;34m)\u001b[0m\u001b[0;34m:\u001b[0m\u001b[0;34m\u001b[0m\u001b[0;34m\u001b[0m\u001b[0m\n",
            "\u001b[0;31mFileNotFoundError\u001b[0m: [Errno 2] No such file or directory: 'model_rf.pkl'"
          ]
        }
      ]
    },
    {
      "cell_type": "markdown",
      "source": [
        "# Tester une Nouvelle Transaction Avant Validation"
      ],
      "metadata": {
        "id": "J7OraDr1cguC"
      },
      "id": "J7OraDr1cguC"
    },
    {
      "cell_type": "markdown",
      "source": [
        "Créons une fonction d'évaluation de risque"
      ],
      "metadata": {
        "id": "5xyOS4VUcsAY"
      },
      "id": "5xyOS4VUcsAY"
    },
    {
      "cell_type": "code",
      "source": [
        "def evaluer_risque(transaction):\n",
        "    proba = model_loaded.predict_proba(transaction)[:, 1]  # Probabilité de fraude\n",
        "\n",
        "    if proba[0] > 0.75:\n",
        "        return f\"🚨 Risque Élevé ({proba[0]:.2f}) → Transaction BLOQUÉE !\"\n",
        "    elif proba[0] > 0.5:\n",
        "        return f\"⚠️ Risque Modéré ({proba[0]:.2f}) → Vérification Supplémentaire demandée.\"\n",
        "    else:\n",
        "        return f\"✅ Risque Faible ({proba[0]:.2f}) → Transaction Autorisée.\"\n"
      ],
      "metadata": {
        "id": "BngRSot8cT1-"
      },
      "id": "BngRSot8cT1-",
      "execution_count": null,
      "outputs": []
    },
    {
      "cell_type": "code",
      "source": [
        "print(\"📌 Nombre de colonnes attendues par `StandardScaler` :\", scaler.n_features_in_)\n"
      ],
      "metadata": {
        "colab": {
          "base_uri": "https://localhost:8080/"
        },
        "id": "73zxN26_d13L",
        "outputId": "6cc60e36-3b42-46c2-f34d-a4e0529ae1a5"
      },
      "id": "73zxN26_d13L",
      "execution_count": null,
      "outputs": [
        {
          "output_type": "stream",
          "name": "stdout",
          "text": [
            "📌 Nombre de colonnes attendues par `StandardScaler` : 6\n"
          ]
        }
      ]
    },
    {
      "cell_type": "markdown",
      "source": [
        "Test d'une transaction suspecte"
      ],
      "metadata": {
        "id": "NkkIPf27c3lZ"
      },
      "id": "NkkIPf27c3lZ"
    },
    {
      "cell_type": "code",
      "source": [
        "# Charger les encodeurs\n",
        "encoders = joblib.load('encoders.pkl')\n",
        "\n",
        "# Fonction sécurisée d'encodage\n",
        "def safe_encode(column, value):\n",
        "    if column in encoders:\n",
        "        encoder = encoders[column]\n",
        "        return encoder.transform([value])[0] if value in encoder.classes_ else encoder.transform(['UNKNOWN'])[0]\n",
        "    return value  # Retourne directement la valeur si elle n'a pas besoin d'être encodée\n",
        "\n",
        "# Créer une transaction test\n",
        "transaction_test = pd.DataFrame({\n",
        "    'type': [safe_encode('type', 'TRANSFER')],\n",
        "    'amount': [scaler.transform([[12000]])[0][0]],\n",
        "    'oldbalanceOrg': [200],\n",
        "    'newbalanceOrig': [0],\n",
        "    'oldbalanceDest': [5000],\n",
        "    'newbalanceDest': [20000],\n",
        "    'device_type': [safe_encode('device_type', 'Desktop')],\n",
        "    'location': [safe_encode('location', 'Nigeria')],\n",
        "    'time_of_day': [safe_encode('time_of_day', 'Night')],\n",
        "    'rapid_transactions': [9]\n",
        "})\n",
        "\n",
        "print(transaction_test.head())  # Vérifier que tout est bien encodé"
      ],
      "metadata": {
        "colab": {
          "base_uri": "https://localhost:8080/",
          "height": 428
        },
        "id": "I52h9jojcyj-",
        "outputId": "ad5a7b14-5488-4592-fca6-a1f8baaf6694"
      },
      "id": "I52h9jojcyj-",
      "execution_count": null,
      "outputs": [
        {
          "output_type": "stream",
          "name": "stderr",
          "text": [
            "/usr/local/lib/python3.11/dist-packages/sklearn/utils/validation.py:2739: UserWarning: X does not have valid feature names, but StandardScaler was fitted with feature names\n",
            "  warnings.warn(\n"
          ]
        },
        {
          "output_type": "error",
          "ename": "ValueError",
          "evalue": "X has 1 features, but StandardScaler is expecting 6 features as input.",
          "traceback": [
            "\u001b[0;31m---------------------------------------------------------------------------\u001b[0m",
            "\u001b[0;31mValueError\u001b[0m                                Traceback (most recent call last)",
            "\u001b[0;32m<ipython-input-62-61d5ec55b843>\u001b[0m in \u001b[0;36m<cell line: 0>\u001b[0;34m()\u001b[0m\n\u001b[1;32m     12\u001b[0m transaction_test = pd.DataFrame({\n\u001b[1;32m     13\u001b[0m     \u001b[0;34m'type'\u001b[0m\u001b[0;34m:\u001b[0m \u001b[0;34m[\u001b[0m\u001b[0msafe_encode\u001b[0m\u001b[0;34m(\u001b[0m\u001b[0;34m'type'\u001b[0m\u001b[0;34m,\u001b[0m \u001b[0;34m'TRANSFER'\u001b[0m\u001b[0;34m)\u001b[0m\u001b[0;34m]\u001b[0m\u001b[0;34m,\u001b[0m\u001b[0;34m\u001b[0m\u001b[0;34m\u001b[0m\u001b[0m\n\u001b[0;32m---> 14\u001b[0;31m     \u001b[0;34m'amount'\u001b[0m\u001b[0;34m:\u001b[0m \u001b[0;34m[\u001b[0m\u001b[0mscaler\u001b[0m\u001b[0;34m.\u001b[0m\u001b[0mtransform\u001b[0m\u001b[0;34m(\u001b[0m\u001b[0;34m[\u001b[0m\u001b[0;34m[\u001b[0m\u001b[0;36m12000\u001b[0m\u001b[0;34m]\u001b[0m\u001b[0;34m]\u001b[0m\u001b[0;34m)\u001b[0m\u001b[0;34m[\u001b[0m\u001b[0;36m0\u001b[0m\u001b[0;34m]\u001b[0m\u001b[0;34m[\u001b[0m\u001b[0;36m0\u001b[0m\u001b[0;34m]\u001b[0m\u001b[0;34m]\u001b[0m\u001b[0;34m,\u001b[0m\u001b[0;34m\u001b[0m\u001b[0;34m\u001b[0m\u001b[0m\n\u001b[0m\u001b[1;32m     15\u001b[0m     \u001b[0;34m'oldbalanceOrg'\u001b[0m\u001b[0;34m:\u001b[0m \u001b[0;34m[\u001b[0m\u001b[0;36m200\u001b[0m\u001b[0;34m]\u001b[0m\u001b[0;34m,\u001b[0m\u001b[0;34m\u001b[0m\u001b[0;34m\u001b[0m\u001b[0m\n\u001b[1;32m     16\u001b[0m     \u001b[0;34m'newbalanceOrig'\u001b[0m\u001b[0;34m:\u001b[0m \u001b[0;34m[\u001b[0m\u001b[0;36m0\u001b[0m\u001b[0;34m]\u001b[0m\u001b[0;34m,\u001b[0m\u001b[0;34m\u001b[0m\u001b[0;34m\u001b[0m\u001b[0m\n",
            "\u001b[0;32m/usr/local/lib/python3.11/dist-packages/sklearn/utils/_set_output.py\u001b[0m in \u001b[0;36mwrapped\u001b[0;34m(self, X, *args, **kwargs)\u001b[0m\n\u001b[1;32m    317\u001b[0m     \u001b[0;34m@\u001b[0m\u001b[0mwraps\u001b[0m\u001b[0;34m(\u001b[0m\u001b[0mf\u001b[0m\u001b[0;34m)\u001b[0m\u001b[0;34m\u001b[0m\u001b[0;34m\u001b[0m\u001b[0m\n\u001b[1;32m    318\u001b[0m     \u001b[0;32mdef\u001b[0m \u001b[0mwrapped\u001b[0m\u001b[0;34m(\u001b[0m\u001b[0mself\u001b[0m\u001b[0;34m,\u001b[0m \u001b[0mX\u001b[0m\u001b[0;34m,\u001b[0m \u001b[0;34m*\u001b[0m\u001b[0margs\u001b[0m\u001b[0;34m,\u001b[0m \u001b[0;34m**\u001b[0m\u001b[0mkwargs\u001b[0m\u001b[0;34m)\u001b[0m\u001b[0;34m:\u001b[0m\u001b[0;34m\u001b[0m\u001b[0;34m\u001b[0m\u001b[0m\n\u001b[0;32m--> 319\u001b[0;31m         \u001b[0mdata_to_wrap\u001b[0m \u001b[0;34m=\u001b[0m \u001b[0mf\u001b[0m\u001b[0;34m(\u001b[0m\u001b[0mself\u001b[0m\u001b[0;34m,\u001b[0m \u001b[0mX\u001b[0m\u001b[0;34m,\u001b[0m \u001b[0;34m*\u001b[0m\u001b[0margs\u001b[0m\u001b[0;34m,\u001b[0m \u001b[0;34m**\u001b[0m\u001b[0mkwargs\u001b[0m\u001b[0;34m)\u001b[0m\u001b[0;34m\u001b[0m\u001b[0;34m\u001b[0m\u001b[0m\n\u001b[0m\u001b[1;32m    320\u001b[0m         \u001b[0;32mif\u001b[0m \u001b[0misinstance\u001b[0m\u001b[0;34m(\u001b[0m\u001b[0mdata_to_wrap\u001b[0m\u001b[0;34m,\u001b[0m \u001b[0mtuple\u001b[0m\u001b[0;34m)\u001b[0m\u001b[0;34m:\u001b[0m\u001b[0;34m\u001b[0m\u001b[0;34m\u001b[0m\u001b[0m\n\u001b[1;32m    321\u001b[0m             \u001b[0;31m# only wrap the first output for cross decomposition\u001b[0m\u001b[0;34m\u001b[0m\u001b[0;34m\u001b[0m\u001b[0m\n",
            "\u001b[0;32m/usr/local/lib/python3.11/dist-packages/sklearn/preprocessing/_data.py\u001b[0m in \u001b[0;36mtransform\u001b[0;34m(self, X, copy)\u001b[0m\n\u001b[1;32m   1060\u001b[0m \u001b[0;34m\u001b[0m\u001b[0m\n\u001b[1;32m   1061\u001b[0m         \u001b[0mcopy\u001b[0m \u001b[0;34m=\u001b[0m \u001b[0mcopy\u001b[0m \u001b[0;32mif\u001b[0m \u001b[0mcopy\u001b[0m \u001b[0;32mis\u001b[0m \u001b[0;32mnot\u001b[0m \u001b[0;32mNone\u001b[0m \u001b[0;32melse\u001b[0m \u001b[0mself\u001b[0m\u001b[0;34m.\u001b[0m\u001b[0mcopy\u001b[0m\u001b[0;34m\u001b[0m\u001b[0;34m\u001b[0m\u001b[0m\n\u001b[0;32m-> 1062\u001b[0;31m         X = validate_data(\n\u001b[0m\u001b[1;32m   1063\u001b[0m             \u001b[0mself\u001b[0m\u001b[0;34m,\u001b[0m\u001b[0;34m\u001b[0m\u001b[0;34m\u001b[0m\u001b[0m\n\u001b[1;32m   1064\u001b[0m             \u001b[0mX\u001b[0m\u001b[0;34m,\u001b[0m\u001b[0;34m\u001b[0m\u001b[0;34m\u001b[0m\u001b[0m\n",
            "\u001b[0;32m/usr/local/lib/python3.11/dist-packages/sklearn/utils/validation.py\u001b[0m in \u001b[0;36mvalidate_data\u001b[0;34m(_estimator, X, y, reset, validate_separately, skip_check_array, **check_params)\u001b[0m\n\u001b[1;32m   2963\u001b[0m \u001b[0;34m\u001b[0m\u001b[0m\n\u001b[1;32m   2964\u001b[0m     \u001b[0;32mif\u001b[0m \u001b[0;32mnot\u001b[0m \u001b[0mno_val_X\u001b[0m \u001b[0;32mand\u001b[0m \u001b[0mcheck_params\u001b[0m\u001b[0;34m.\u001b[0m\u001b[0mget\u001b[0m\u001b[0;34m(\u001b[0m\u001b[0;34m\"ensure_2d\"\u001b[0m\u001b[0;34m,\u001b[0m \u001b[0;32mTrue\u001b[0m\u001b[0;34m)\u001b[0m\u001b[0;34m:\u001b[0m\u001b[0;34m\u001b[0m\u001b[0;34m\u001b[0m\u001b[0m\n\u001b[0;32m-> 2965\u001b[0;31m         \u001b[0m_check_n_features\u001b[0m\u001b[0;34m(\u001b[0m\u001b[0m_estimator\u001b[0m\u001b[0;34m,\u001b[0m \u001b[0mX\u001b[0m\u001b[0;34m,\u001b[0m \u001b[0mreset\u001b[0m\u001b[0;34m=\u001b[0m\u001b[0mreset\u001b[0m\u001b[0;34m)\u001b[0m\u001b[0;34m\u001b[0m\u001b[0;34m\u001b[0m\u001b[0m\n\u001b[0m\u001b[1;32m   2966\u001b[0m \u001b[0;34m\u001b[0m\u001b[0m\n\u001b[1;32m   2967\u001b[0m     \u001b[0;32mreturn\u001b[0m \u001b[0mout\u001b[0m\u001b[0;34m\u001b[0m\u001b[0;34m\u001b[0m\u001b[0m\n",
            "\u001b[0;32m/usr/local/lib/python3.11/dist-packages/sklearn/utils/validation.py\u001b[0m in \u001b[0;36m_check_n_features\u001b[0;34m(estimator, X, reset)\u001b[0m\n\u001b[1;32m   2827\u001b[0m \u001b[0;34m\u001b[0m\u001b[0m\n\u001b[1;32m   2828\u001b[0m     \u001b[0;32mif\u001b[0m \u001b[0mn_features\u001b[0m \u001b[0;34m!=\u001b[0m \u001b[0mestimator\u001b[0m\u001b[0;34m.\u001b[0m\u001b[0mn_features_in_\u001b[0m\u001b[0;34m:\u001b[0m\u001b[0;34m\u001b[0m\u001b[0;34m\u001b[0m\u001b[0m\n\u001b[0;32m-> 2829\u001b[0;31m         raise ValueError(\n\u001b[0m\u001b[1;32m   2830\u001b[0m             \u001b[0;34mf\"X has {n_features} features, but {estimator.__class__.__name__} \"\u001b[0m\u001b[0;34m\u001b[0m\u001b[0;34m\u001b[0m\u001b[0m\n\u001b[1;32m   2831\u001b[0m             \u001b[0;34mf\"is expecting {estimator.n_features_in_} features as input.\"\u001b[0m\u001b[0;34m\u001b[0m\u001b[0;34m\u001b[0m\u001b[0m\n",
            "\u001b[0;31mValueError\u001b[0m: X has 1 features, but StandardScaler is expecting 6 features as input."
          ]
        }
      ]
    },
    {
      "cell_type": "code",
      "source": [],
      "metadata": {
        "id": "bJ7jP1eBc77s"
      },
      "id": "bJ7jP1eBc77s",
      "execution_count": null,
      "outputs": []
    }
  ],
  "metadata": {
    "kernelspec": {
      "display_name": "Python 3",
      "name": "python3"
    },
    "language_info": {
      "name": "python"
    },
    "colab": {
      "provenance": [],
      "gpuType": "T4",
      "include_colab_link": true
    },
    "accelerator": "GPU"
  },
  "nbformat": 4,
  "nbformat_minor": 5
}