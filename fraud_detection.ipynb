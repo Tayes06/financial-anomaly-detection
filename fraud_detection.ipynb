{
  "cells": [
    {
      "cell_type": "markdown",
      "metadata": {
        "id": "view-in-github",
        "colab_type": "text"
      },
      "source": [
        "<a href=\"https://colab.research.google.com/github/Tayes06/financial-anomaly-detection/blob/main/fraud_detection.ipynb\" target=\"_parent\"><img src=\"https://colab.research.google.com/assets/colab-badge.svg\" alt=\"Open In Colab\"/></a>"
      ]
    },
    {
      "cell_type": "markdown",
      "id": "5a941ea9-6f0c-4056-a738-a17b4bb48d84",
      "metadata": {
        "id": "5a941ea9-6f0c-4056-a738-a17b4bb48d84"
      },
      "source": [
        "# Welcome to this notebook\n",
        "## Fraud detection and prevention\n",
        "Trough this notebook, we are going to be able to detect and make prediction of fraud in financial transaction.\n"
      ]
    },
    {
      "cell_type": "code",
      "source": [
        "from google.colab import drive\n",
        "drive.mount('/content/drive')"
      ],
      "metadata": {
        "colab": {
          "base_uri": "https://localhost:8080/"
        },
        "id": "YsreOXdH0Q3W",
        "outputId": "32a52dbf-52e2-46d5-f5a8-3fb2b446a228"
      },
      "id": "YsreOXdH0Q3W",
      "execution_count": null,
      "outputs": [
        {
          "output_type": "stream",
          "name": "stdout",
          "text": [
            "Mounted at /content/drive\n"
          ]
        }
      ]
    },
    {
      "cell_type": "markdown",
      "id": "63c6ab81-6449-41a2-9de5-c38da59e52a0",
      "metadata": {
        "id": "63c6ab81-6449-41a2-9de5-c38da59e52a0"
      },
      "source": [
        "We will built two ML model that one will be used to detect and the other to predict fraud in financial transaction"
      ]
    },
    {
      "cell_type": "markdown",
      "id": "835d3bcc-7cb2-49b2-85e6-60c99ef3e326",
      "metadata": {
        "id": "835d3bcc-7cb2-49b2-85e6-60c99ef3e326"
      },
      "source": [
        "The dataset we are going to use is paysim dataset, available on kaggle at this address https://www.kaggle.com/datasets/mtalaltariq/paysim-data. \\\n",
        "I've downloaded it and now we'll be exploring following this notebook."
      ]
    },
    {
      "cell_type": "markdown",
      "id": "46e9303a-2118-4f7d-8790-e9bef71b4688",
      "metadata": {
        "id": "46e9303a-2118-4f7d-8790-e9bef71b4688"
      },
      "source": [
        "### Imports"
      ]
    },
    {
      "cell_type": "code",
      "execution_count": null,
      "id": "5474774f-e1b7-40e4-8991-3d9967efec25",
      "metadata": {
        "id": "5474774f-e1b7-40e4-8991-3d9967efec25"
      },
      "outputs": [],
      "source": [
        "import pandas as pd\n",
        "import numpy as np"
      ]
    },
    {
      "cell_type": "code",
      "execution_count": null,
      "id": "7d1b6300-92f9-4b0d-8a4e-96ef7400a394",
      "metadata": {
        "colab": {
          "base_uri": "https://localhost:8080/"
        },
        "id": "7d1b6300-92f9-4b0d-8a4e-96ef7400a394",
        "outputId": "24031d81-b659-47c8-c537-ff818f530127"
      },
      "outputs": [
        {
          "output_type": "stream",
          "name": "stdout",
          "text": [
            "   step      type    amount     nameOrig  oldbalanceOrg  newbalanceOrig  \\\n",
            "0     1   PAYMENT   9839.64  C1231006815       170136.0       160296.36   \n",
            "1     1   PAYMENT   1864.28  C1666544295        21249.0        19384.72   \n",
            "2     1  TRANSFER    181.00  C1305486145          181.0            0.00   \n",
            "3     1  CASH_OUT    181.00   C840083671          181.0            0.00   \n",
            "4     1   PAYMENT  11668.14  C2048537720        41554.0        29885.86   \n",
            "\n",
            "      nameDest  oldbalanceDest  newbalanceDest  isFraud  isFlaggedFraud  \n",
            "0  M1979787155             0.0             0.0        0               0  \n",
            "1  M2044282225             0.0             0.0        0               0  \n",
            "2   C553264065             0.0             0.0        1               0  \n",
            "3    C38997010         21182.0             0.0        1               0  \n",
            "4  M1230701703             0.0             0.0        0               0  \n"
          ]
        }
      ],
      "source": [
        "# Load the dataset\n",
        "df = pd.read_csv(\"/content/drive/MyDrive/Colab Notebooks/bank-fraud-detection/paysim_dataset_for_prediction.csv\")\n",
        "\n",
        "# Show first lines\n",
        "print(df.head())"
      ]
    },
    {
      "cell_type": "code",
      "execution_count": null,
      "id": "f8785792-7bef-47a1-ab16-424f22f79353",
      "metadata": {
        "colab": {
          "base_uri": "https://localhost:8080/"
        },
        "id": "f8785792-7bef-47a1-ab16-424f22f79353",
        "outputId": "b404e912-d5d9-4c27-c76f-553640ddf2bf"
      },
      "outputs": [
        {
          "output_type": "execute_result",
          "data": {
            "text/plain": [
              "(6362620, 11)"
            ]
          },
          "metadata": {},
          "execution_count": 5
        }
      ],
      "source": [
        "df.shape"
      ]
    },
    {
      "cell_type": "markdown",
      "id": "279faecb-f81d-45ed-8306-5a9881193cf4",
      "metadata": {
        "id": "279faecb-f81d-45ed-8306-5a9881193cf4"
      },
      "source": [
        "* Adding _device_type_ column"
      ]
    },
    {
      "cell_type": "markdown",
      "id": "77fa4e2d-733a-4bb9-abd8-5b68d7c71658",
      "metadata": {
        "id": "77fa4e2d-733a-4bb9-abd8-5b68d7c71658"
      },
      "source": [
        "### Enrichment of the dataset\n",
        "Let's add more column in order to give more sence to our dataset.  \n",
        "**device_type:** to track the type of device used for transaction.  \n",
        "**location:** to get the place from where the transaction is been operating.  \n",
        "**ip_address:** used to track suspicious users.  \n",
        "**time_of_day:** it can be *Morning*, *Midday*, *Afternoon*, or *Night*.  \n",
        "**rapid_transactions:** Number of transaction within an hour."
      ]
    },
    {
      "cell_type": "code",
      "execution_count": null,
      "id": "f35b0e5e-dfbd-4ea3-be66-da3c5384e40e",
      "metadata": {
        "colab": {
          "base_uri": "https://localhost:8080/"
        },
        "id": "f35b0e5e-dfbd-4ea3-be66-da3c5384e40e",
        "outputId": "e8eee7a0-b728-4060-850d-fed9bdfae916"
      },
      "outputs": [
        {
          "output_type": "stream",
          "name": "stdout",
          "text": [
            "device_type\n",
            "Desktop    2121683\n",
            "ATM        2121611\n",
            "Mobile     2119326\n",
            "Name: count, dtype: int64\n"
          ]
        }
      ],
      "source": [
        "np.random.seed(42)  # Pour avoir les mêmes résultats à chaque exécution\n",
        "\n",
        "# Simuler le type d'appareil utilisé pour la transaction\n",
        "device_types = ['Mobile', 'Desktop', 'ATM']\n",
        "df['device_type'] = np.random.choice(device_types, size=len(df))\n",
        "\n",
        "# Show devices distributions\n",
        "print(df['device_type'].value_counts())"
      ]
    },
    {
      "cell_type": "markdown",
      "id": "7b11c554-37db-49c6-928d-128e10371ac5",
      "metadata": {
        "id": "7b11c554-37db-49c6-928d-128e10371ac5"
      },
      "source": [
        "* Adding *location* column"
      ]
    },
    {
      "cell_type": "code",
      "execution_count": null,
      "id": "964a645f-e718-4ab9-9db3-f80b001aafb4",
      "metadata": {
        "colab": {
          "base_uri": "https://localhost:8080/"
        },
        "id": "964a645f-e718-4ab9-9db3-f80b001aafb4",
        "outputId": "51cbd2aa-9382-441e-e6e3-ba50391a9fd6"
      },
      "outputs": [
        {
          "output_type": "stream",
          "name": "stdout",
          "text": [
            "location\n",
            "Abijan       708859\n",
            "Abuja        707246\n",
            "Yaoundé      707004\n",
            "Paris        706873\n",
            "Guangzhou    706746\n",
            "Douala       706648\n",
            "Limoges      706637\n",
            "Bafoussam    706350\n",
            "Toronto      706257\n",
            "Name: count, dtype: int64\n"
          ]
        }
      ],
      "source": [
        "cities = ['Douala', 'Yaoundé', 'Paris', 'Limoges', 'Abuja', 'Toronto', 'Guangzhou', 'Bafoussam', 'Abijan']\n",
        "df['location'] = np.random.choice(cities, size=len(df))\n",
        "\n",
        "# Visualisation des villes les plus fréquentes\n",
        "print(df['location'].value_counts())"
      ]
    },
    {
      "cell_type": "markdown",
      "id": "c4385683-ad26-4eac-8129-409845ce7985",
      "metadata": {
        "id": "c4385683-ad26-4eac-8129-409845ce7985"
      },
      "source": [
        "* ip_address"
      ]
    },
    {
      "cell_type": "markdown",
      "id": "a19e38c7-5201-4e99-bc7a-0d91e25ff704",
      "metadata": {
        "id": "a19e38c7-5201-4e99-bc7a-0d91e25ff704"
      },
      "source": [
        "* time_of_day"
      ]
    },
    {
      "cell_type": "code",
      "execution_count": null,
      "id": "4eaea0fb-e5ea-4738-87f5-c617757368d9",
      "metadata": {
        "colab": {
          "base_uri": "https://localhost:8080/"
        },
        "id": "4eaea0fb-e5ea-4738-87f5-c617757368d9",
        "outputId": "7b6b9aab-8395-41eb-d907-36b7fc2c7dc2"
      },
      "outputs": [
        {
          "output_type": "stream",
          "name": "stdout",
          "text": [
            "time_of_day\n",
            "Après-midi    2689784\n",
            "Soir          2365669\n",
            "Matin         1194562\n",
            "Nuit           112605\n",
            "Name: count, dtype: int64\n"
          ]
        }
      ],
      "source": [
        "def assign_time(step):\n",
        "    if step % 24 < 6:\n",
        "        return 'Nuit'\n",
        "    elif step % 24 < 12:\n",
        "        return 'Matin'\n",
        "    elif step % 24 < 18:\n",
        "        return 'Après-midi'\n",
        "    else:\n",
        "        return 'Soir'\n",
        "\n",
        "df['time_of_day'] = df['step'].apply(assign_time)\n",
        "\n",
        "# Vérifier la distribution des transactions par moment de la journée\n",
        "print(df['time_of_day'].value_counts())"
      ]
    },
    {
      "cell_type": "markdown",
      "id": "1d8d41a3-4096-441b-ad58-7a35ebf4630f",
      "metadata": {
        "id": "1d8d41a3-4096-441b-ad58-7a35ebf4630f"
      },
      "source": [
        "* rapid_transactions  \n",
        "  📌 Calculer combien de transactions le même client a effectuées dans l'heure précédente."
      ]
    },
    {
      "cell_type": "code",
      "execution_count": null,
      "id": "cd2c3f4a-bee8-406f-839c-2132da0ab1b2",
      "metadata": {
        "scrolled": true,
        "colab": {
          "base_uri": "https://localhost:8080/"
        },
        "id": "cd2c3f4a-bee8-406f-839c-2132da0ab1b2",
        "outputId": "1f642aee-a9b8-4962-db93-2546407bac1c"
      },
      "outputs": [
        {
          "output_type": "stream",
          "name": "stdout",
          "text": [
            "       nameOrig  rapid_transactions\n",
            "0   C1231006815                   0\n",
            "1   C1666544295                   0\n",
            "2   C1305486145                   0\n",
            "3    C840083671                   0\n",
            "4   C2048537720                   0\n",
            "5     C90045638                   0\n",
            "6    C154988899                   0\n",
            "7   C1912850431                   0\n",
            "8   C1265012928                   0\n",
            "9    C712410124                   0\n",
            "10  C1900366749                   0\n",
            "11   C249177573                   0\n",
            "12  C1648232591                   0\n",
            "13  C1716932897                   0\n",
            "14  C1026483832                   0\n",
            "15   C905080434                   0\n",
            "16   C761750706                   0\n",
            "17  C1237762639                   0\n",
            "18  C2033524545                   0\n",
            "19  C1670993182                   0\n"
          ]
        }
      ],
      "source": [
        "df['rapid_transactions'] = (df.groupby('nameOrig')['step']\n",
        "                             .diff()\n",
        "                             .fillna(999)\n",
        "                             .lt(1)\n",
        "                             .astype(int)\n",
        "                             .groupby(df['nameOrig'])\n",
        "                             .cumsum())\n",
        "\n",
        "print(df[['nameOrig', 'rapid_transactions']].head(20))"
      ]
    },
    {
      "cell_type": "code",
      "execution_count": null,
      "id": "83ac0c2c-4dce-45a0-a93f-f03cc129829f",
      "metadata": {
        "scrolled": true,
        "colab": {
          "base_uri": "https://localhost:8080/"
        },
        "id": "83ac0c2c-4dce-45a0-a93f-f03cc129829f",
        "outputId": "df86e646-cdef-4427-f062-20d1cf8bdf69"
      },
      "outputs": [
        {
          "output_type": "stream",
          "name": "stdout",
          "text": [
            "   step      type    amount     nameOrig  oldbalanceOrg  newbalanceOrig  \\\n",
            "0     1   PAYMENT   9839.64  C1231006815       170136.0       160296.36   \n",
            "1     1   PAYMENT   1864.28  C1666544295        21249.0        19384.72   \n",
            "2     1  TRANSFER    181.00  C1305486145          181.0            0.00   \n",
            "3     1  CASH_OUT    181.00   C840083671          181.0            0.00   \n",
            "4     1   PAYMENT  11668.14  C2048537720        41554.0        29885.86   \n",
            "\n",
            "      nameDest  oldbalanceDest  newbalanceDest  isFraud  isFlaggedFraud  \\\n",
            "0  M1979787155             0.0             0.0        0               0   \n",
            "1  M2044282225             0.0             0.0        0               0   \n",
            "2   C553264065             0.0             0.0        1               0   \n",
            "3    C38997010         21182.0             0.0        1               0   \n",
            "4  M1230701703             0.0             0.0        0               0   \n",
            "\n",
            "  device_type location time_of_day  rapid_transactions  \n",
            "0         ATM  Limoges        Nuit                   0  \n",
            "1      Mobile   Abijan        Nuit                   0  \n",
            "2         ATM   Douala        Nuit                   0  \n",
            "3         ATM  Limoges        Nuit                   0  \n",
            "4      Mobile  Toronto        Nuit                   0  \n"
          ]
        }
      ],
      "source": [
        "print(df.head())"
      ]
    },
    {
      "cell_type": "code",
      "execution_count": null,
      "id": "66c2f331-3f46-49ab-af77-54d162be151e",
      "metadata": {
        "scrolled": true,
        "colab": {
          "base_uri": "https://localhost:8080/"
        },
        "id": "66c2f331-3f46-49ab-af77-54d162be151e",
        "outputId": "a3b9e807-aa5b-48b6-8e0c-231912cc1044"
      },
      "outputs": [
        {
          "output_type": "stream",
          "name": "stdout",
          "text": [
            "<class 'pandas.core.frame.DataFrame'>\n",
            "RangeIndex: 6362620 entries, 0 to 6362619\n",
            "Data columns (total 15 columns):\n",
            " #   Column              Dtype  \n",
            "---  ------              -----  \n",
            " 0   step                int64  \n",
            " 1   type                object \n",
            " 2   amount              float64\n",
            " 3   nameOrig            object \n",
            " 4   oldbalanceOrg       float64\n",
            " 5   newbalanceOrig      float64\n",
            " 6   nameDest            object \n",
            " 7   oldbalanceDest      float64\n",
            " 8   newbalanceDest      float64\n",
            " 9   isFraud             int64  \n",
            " 10  isFlaggedFraud      int64  \n",
            " 11  device_type         object \n",
            " 12  location            object \n",
            " 13  time_of_day         object \n",
            " 14  rapid_transactions  int64  \n",
            "dtypes: float64(5), int64(4), object(6)\n",
            "memory usage: 728.1+ MB\n",
            "None\n"
          ]
        }
      ],
      "source": [
        "print(df.info())"
      ]
    },
    {
      "cell_type": "markdown",
      "id": "59ef82c1-62d8-4e40-8546-a5fe182dd582",
      "metadata": {
        "id": "59ef82c1-62d8-4e40-8546-a5fe182dd582"
      },
      "source": [
        "#### Data preprocessing\n",
        "Delete unusefull columns  \n",
        "We are going to delete columns that aren't too relevants to train the model:  \n",
        "* nameOrig, nameDest : Account identifiers (Don't deliver usefull informations).  \n",
        "* isFraud : We remove it because Isolation Forest is unsupervised.  \n",
        "* isFlaggedFraud : Can be use later for analystics but not directly in training.  "
      ]
    },
    {
      "cell_type": "code",
      "execution_count": null,
      "id": "897be104-0e4a-4eee-9c06-0163c4582118",
      "metadata": {
        "id": "897be104-0e4a-4eee-9c06-0163c4582118"
      },
      "outputs": [],
      "source": [
        "df = df.drop(columns=['nameOrig', 'nameDest', 'isFraud', 'isFlaggedFraud'])"
      ]
    },
    {
      "cell_type": "markdown",
      "id": "0181aef6-e4ac-4ca9-9654-094352200945",
      "metadata": {
        "scrolled": true,
        "id": "0181aef6-e4ac-4ca9-9654-094352200945"
      },
      "source": [
        "#### Encoding of categorical variables\n",
        "The following columns are categoricals and shall be converted into numeric:  \n",
        "* type (type of transaction)  \n",
        "* device_type (used device)  \n",
        "* location (transaction location)  \n",
        "* time_of_day (a periode of the day)  \n",
        "Let's use *LabelEncoder* to encode"
      ]
    },
    {
      "cell_type": "code",
      "execution_count": null,
      "id": "1b567840-d0e4-48be-a97d-8aa428c9238a",
      "metadata": {
        "id": "1b567840-d0e4-48be-a97d-8aa428c9238a"
      },
      "outputs": [],
      "source": [
        "from sklearn.preprocessing import LabelEncoder\n",
        "encoder = LabelEncoder()\n",
        "for col in ['type', 'device_type', 'location', 'time_of_day']:\n",
        "    df[col] = encoder.fit_transform(df[col])"
      ]
    },
    {
      "cell_type": "markdown",
      "id": "519f7e8a-4b82-418a-93b3-31fbefa028c4",
      "metadata": {
        "id": "519f7e8a-4b82-418a-93b3-31fbefa028c4"
      },
      "source": [
        "#### Normalization of numerical variables\n",
        "To avoid certain variables dominate to others (ex. amount vs rapid_transactions), we use *StandardScaler* to normalize amounts and balances"
      ]
    },
    {
      "cell_type": "code",
      "execution_count": null,
      "id": "a4c8da7d-4671-4289-ad0b-d73c4bafb9f4",
      "metadata": {
        "id": "a4c8da7d-4671-4289-ad0b-d73c4bafb9f4"
      },
      "outputs": [],
      "source": [
        "from sklearn.preprocessing import StandardScaler\n",
        "\n",
        "scaler = StandardScaler()\n",
        "df[['amount', 'oldbalanceOrg', 'newbalanceOrig', 'oldbalanceDest', 'newbalanceDest', 'rapid_transactions']] = scaler.fit_transform(\n",
        "    df[['amount', 'oldbalanceOrg', 'newbalanceOrig', 'oldbalanceDest', 'newbalanceDest', 'rapid_transactions']]\n",
        ")"
      ]
    },
    {
      "cell_type": "markdown",
      "id": "76165360-6466-45da-b737-128172772c4f",
      "metadata": {
        "id": "76165360-6466-45da-b737-128172772c4f"
      },
      "source": [
        "#### Training of Isolation Forest Model\n",
        "1. Model Initialization"
      ]
    },
    {
      "cell_type": "code",
      "execution_count": null,
      "id": "1431dc00-21c1-4247-b27c-6165cd5d4f49",
      "metadata": {
        "id": "1431dc00-21c1-4247-b27c-6165cd5d4f49"
      },
      "outputs": [],
      "source": [
        "from sklearn.ensemble import IsolationForest\n",
        "\n",
        "# Definition of the model\n",
        "model = IsolationForest(n_estimators = 100, contamination = 0.02, random_state = 42)\n",
        "\n",
        "# Training of the model\n",
        "df['anomaly'] = model.fit_predict(df)\n",
        "\n",
        "# Result transformation (-1 = fraud, 1 = normal)\n",
        "df['anomaly'] = df['anomaly'].apply(lambda x: 1 if x == -1 else 0)"
      ]
    },
    {
      "cell_type": "markdown",
      "id": "586ac7c5-2fed-4ea4-b49f-e4b44a9d2664",
      "metadata": {
        "id": "586ac7c5-2fed-4ea4-b49f-e4b44a9d2664"
      },
      "source": [
        "#### Detected anomalies evaluation\n",
        "1. Check how anomalies are distributed  \n",
        "\n",
        "We'll check if the model returns a realistic percentage of anomaly"
      ]
    },
    {
      "cell_type": "code",
      "execution_count": null,
      "id": "cf54ab34-033e-48bb-9245-5c098f965e61",
      "metadata": {
        "colab": {
          "base_uri": "https://localhost:8080/"
        },
        "id": "cf54ab34-033e-48bb-9245-5c098f965e61",
        "outputId": "92cc0ece-9606-4d29-dc8f-ececbcaa2901"
      },
      "outputs": [
        {
          "output_type": "stream",
          "name": "stdout",
          "text": [
            "anomaly\n",
            "0    6235367\n",
            "1     127253\n",
            "Name: count, dtype: int64\n"
          ]
        }
      ],
      "source": [
        "print(df['anomaly'].value_counts())"
      ]
    },
    {
      "cell_type": "markdown",
      "id": "72a404f3-39fb-4870-9b22-70d3211b2bda",
      "metadata": {
        "id": "72a404f3-39fb-4870-9b22-70d3211b2bda"
      },
      "source": [
        "2. Let's compare with really fraudulents transactions"
      ]
    },
    {
      "cell_type": "code",
      "execution_count": null,
      "id": "da765b07-4756-44a7-9df3-1e08acc3bb4a",
      "metadata": {
        "scrolled": true,
        "colab": {
          "base_uri": "https://localhost:8080/"
        },
        "id": "da765b07-4756-44a7-9df3-1e08acc3bb4a",
        "outputId": "a9037665-bfaa-4d15-e0ce-d96fd04ec716"
      },
      "outputs": [
        {
          "output_type": "stream",
          "name": "stdout",
          "text": [
            "[[6228156  126251]\n",
            " [   7211    1002]]\n",
            "              precision    recall  f1-score   support\n",
            "\n",
            "           0       1.00      0.98      0.99   6354407\n",
            "           1       0.01      0.12      0.01      8213\n",
            "\n",
            "    accuracy                           0.98   6362620\n",
            "   macro avg       0.50      0.55      0.50   6362620\n",
            "weighted avg       1.00      0.98      0.99   6362620\n",
            "\n"
          ]
        }
      ],
      "source": [
        "from sklearn.metrics import classification_report, confusion_matrix\n",
        "\n",
        "# Comparer les anomalies détectées avec la colonne 'isFraud'\n",
        "df_eval = pd.read_csv(\"/content/drive/MyDrive/Colab Notebooks/bank-fraud-detection/paysim_dataset_for_prediction.csv\")  # Recharger le dataset pour récupérer 'isFraud'\n",
        "print(confusion_matrix(df_eval['isFraud'], df['anomaly']))\n",
        "print(classification_report(df_eval['isFraud'], df['anomaly']))"
      ]
    },
    {
      "cell_type": "markdown",
      "id": "3ce8167f-41ec-4398-9186-3f594e3c3abe",
      "metadata": {
        "id": "3ce8167f-41ec-4398-9186-3f594e3c3abe"
      },
      "source": [
        "#### Data visualisation\n",
        "1. Show suspicious transactions"
      ]
    },
    {
      "cell_type": "code",
      "execution_count": null,
      "id": "c802b1c6-e0b9-4283-8aa1-aec2f56d1c79",
      "metadata": {
        "id": "c802b1c6-e0b9-4283-8aa1-aec2f56d1c79"
      },
      "outputs": [],
      "source": [
        "import matplotlib.pyplot as plt\n",
        "import seaborn as sns\n",
        "\n",
        "plt.figure(figsize=(10,6))\n",
        "sns.scatterplot(x=df.index, y=df['amount'], hue=df['anomaly'], palette={1:\"red\", 0:\"blue\"})\n",
        "plt.title(\"Transactions normales vs anomalies détectées\")\n",
        "plt.show()"
      ]
    },
    {
      "cell_type": "markdown",
      "id": "49e71040-835b-4b85-aee9-f702384469e0",
      "metadata": {
        "id": "49e71040-835b-4b85-aee9-f702384469e0"
      },
      "source": [
        "#### Export the Model\n",
        "Exportation of the Isolation Forest model trained for futher use"
      ]
    },
    {
      "cell_type": "code",
      "execution_count": null,
      "id": "bfcbc9f0-3369-461d-8dcf-1f462e237dfa",
      "metadata": {
        "id": "bfcbc9f0-3369-461d-8dcf-1f462e237dfa"
      },
      "outputs": [],
      "source": [
        "import joblib\n",
        "\n",
        "# Sauvegarde du modèle\n",
        "joblib.dump(model, 'isolation_forest_model.pkl')\n",
        "\n",
        "print(\"✅ Modèle sauvegardé avec succès !\")"
      ]
    },
    {
      "cell_type": "code",
      "execution_count": null,
      "id": "fefad8b4-f6c5-4d49-a658-58cf504546e2",
      "metadata": {
        "id": "fefad8b4-f6c5-4d49-a658-58cf504546e2"
      },
      "outputs": [],
      "source": []
    }
  ],
  "metadata": {
    "kernelspec": {
      "display_name": "Python [conda env:base] *",
      "language": "python",
      "name": "conda-base-py"
    },
    "language_info": {
      "codemirror_mode": {
        "name": "ipython",
        "version": 3
      },
      "file_extension": ".py",
      "mimetype": "text/x-python",
      "name": "python",
      "nbconvert_exporter": "python",
      "pygments_lexer": "ipython3",
      "version": "3.12.7"
    },
    "colab": {
      "provenance": [],
      "include_colab_link": true
    }
  },
  "nbformat": 4,
  "nbformat_minor": 5
}